{
 "cells": [
  {
   "cell_type": "code",
   "execution_count": 4,
   "metadata": {},
   "outputs": [],
   "source": [
    "import numpy as np\n",
    "import random\n",
    "from easy21 import Easy21"
   ]
  },
  {
   "cell_type": "code",
   "execution_count": 5,
   "metadata": {},
   "outputs": [],
   "source": [
    "# dealer showing is from 1 - 10\n",
    "# our states are from 1 - 21\n",
    "class MCControl:\n",
    "    def __init__(self, no: int = 100) -> None:\n",
    "        self.Q = np.zeros((22, 11, 2))\n",
    "        self.N = np.zeros((22, 11, 2))\n",
    "        self.no = no\n",
    "        self.policy = np.ones((22, 11, 2)) * 0.5\n",
    "        self.action_names = ['hit', 'stick']\n",
    "        self.wins = 0\n",
    "    \n",
    "    def epsilon_greedy_argmax(self, player_sum, dealer_showing):\n",
    "        q_values = self.Q[player_sum, dealer_showing]\n",
    "        epsilon = self.no / (self.no + self.N[player_sum, dealer_showing].sum())\n",
    "        # choose random with prob epsilon\n",
    "        if random.random() < epsilon:\n",
    "            return random.choice([0,1])\n",
    "\n",
    "        return q_values.argmax()\n",
    "\n",
    "    def get_episode(self, env: Easy21, log=False):\n",
    "        state = env.get_starting_state()\n",
    "        if log:\n",
    "            print(\"Starting_with_state:\", state)\n",
    "        has_terminated = False\n",
    "        episode = []\n",
    "        while not has_terminated:\n",
    "            player_sum, dealer_showing = state\n",
    "            action_idx = self.epsilon_greedy_argmax(player_sum, dealer_showing)\n",
    "            action = self.action_names[action_idx]\n",
    "            self.N[player_sum, dealer_showing, action_idx] += 1\n",
    "            has_terminated, next_state, reward = env.step(state, action)\n",
    "            episode.append([state, action_idx, reward])\n",
    "            state = next_state\n",
    "        return episode\n",
    "    \n",
    "    def update_q_values(self, episode: list):\n",
    "        \"\"\"Updates q values based on episode = [s, a, r, ... s, a, r]\"\"\"\n",
    "        if episode[-1][-1] == 1:\n",
    "            self.wins += 1\n",
    "\n",
    "        run_sum = 0\n",
    "\n",
    "        for (player_sum, dealer_showing), action_idx, reward in reversed(episode):\n",
    "            run_sum += reward\n",
    "            # move Q[s, a] towards run_sum\n",
    "            self.Q[player_sum, dealer_showing, action_idx] += (\n",
    "                (run_sum - self.Q[player_sum, dealer_showing, action_idx])\n",
    "                / self.N[player_sum, dealer_showing, action_idx]\n",
    "            )"
   ]
  },
  {
   "cell_type": "code",
   "execution_count": 6,
   "metadata": {},
   "outputs": [
    {
     "name": "stdout",
     "output_type": "stream",
     "text": [
      "Iteration  100000:  win% =  50.611\n",
      "Iteration  200000:  win% =  51.321\n",
      "Iteration  300000:  win% =  51.567\n",
      "Iteration  400000:  win% =  51.758\n",
      "Iteration  500000:  win% =  51.884\n",
      "Iteration  600000:  win% =  51.962\n",
      "Iteration  700000:  win% =  52.015\n",
      "Iteration  800000:  win% =  52.070\n",
      "Iteration  900000:  win% =  52.099\n",
      "Iteration 1000000:  win% =  52.134\n"
     ]
    }
   ],
   "source": [
    "model = MCControl()\n",
    "env = Easy21()\n",
    "\n",
    "N = int(1e6)\n",
    "for idx in range(N):\n",
    "    episode = model.get_episode(env)\n",
    "    model.update_q_values(episode)\n",
    "    if (idx + 1) % (N // 10) == 0:\n",
    "        print(f\"Iteration {(idx + 1):7d}:  win% = {100 * model.wins / (idx + 1) : .3f}\")"
   ]
  }
 ],
 "metadata": {
  "kernelspec": {
   "display_name": "py311",
   "language": "python",
   "name": "python3"
  },
  "language_info": {
   "codemirror_mode": {
    "name": "ipython",
    "version": 3
   },
   "file_extension": ".py",
   "mimetype": "text/x-python",
   "name": "python",
   "nbconvert_exporter": "python",
   "pygments_lexer": "ipython3",
   "version": "3.11.2"
  },
  "orig_nbformat": 4,
  "vscode": {
   "interpreter": {
    "hash": "e0138a104abb3cc5cb258838e4d9475cd9713f4386c0ce64d89dbfcd76f0e950"
   }
  }
 },
 "nbformat": 4,
 "nbformat_minor": 2
}
